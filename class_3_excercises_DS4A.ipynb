{
 "cells": [
  {
   "cell_type": "markdown",
   "metadata": {},
   "source": [
    "## Excercise from Web Scrapping Class -DS4A"
   ]
  },
  {
   "cell_type": "code",
   "execution_count": 11,
   "metadata": {},
   "outputs": [],
   "source": [
    "# Libraries needed for basic web-scraping\n",
    "from IPython.core.display import HTML\n",
    "from bs4 import BeautifulSoup\n",
    "from IPython.display import IFrame\n",
    "import urllib # package required to interact with live webpage\n",
    "import pandas as pd \n",
    "dir_data =\"C:/Users/Acer/Documents/DSA4/ClassesNotebooks/DS4A_prg/cases/Cases_JupyterNote/case_1.3_student/\""
   ]
  },
  {
   "cell_type": "code",
   "execution_count": 1,
   "metadata": {},
   "outputs": [],
   "source": [
    "custom_html_doc = \"\"\"\n",
    "<html>\n",
    "<head>\n",
    "<title>HTML Page Title</title>\n",
    "</head>\n",
    "<h1>Head: Important Header: Global News</h1>\n",
    "<br>\n",
    "<h2>Head: Less Imporant Header: Global News</h2>\n",
    "<body>\n",
    "<p class=\"title\"><b>Paragraph: Financial news</b></p>\n",
    "<p class=\"story\"> Stocks had a volatile week, where\n",
    "<a href=\"https://finance.yahoo.com/quote/duk/\" target=\"_blank\" class=\"stock\" id=\"link1\">DUK</a>,\n",
    "<a href=\"https://finance.yahoo.com/quote/d/\" target=\"_blank\" class=\"stock\" id=\"link2\">D</a>,\n",
    "<a href=\"https://finance.yahoo.com/quote/exc/\" target=\"_blank\" class=\"stock\" id=\"link3\">EXC</a>,\n",
    "<a href=\"https://finance.yahoo.com/quote/nee/\" target=\"_blank\" class=\"etf\" id=\"link4\">NEE</a>,\n",
    "<a href=\"https://finance.yahoo.com/quote/so/\" target=\"_blank\" class=\"stock\" id=\"link5\">SO</a>,\n",
    "were all making headlines.</p>\n",
    "<p class=\"details\">End of HTML document.</p>\n",
    "\"\"\"\n",
    "\n"
   ]
  },
  {
   "cell_type": "code",
   "execution_count": 4,
   "metadata": {},
   "outputs": [
    {
     "name": "stdout",
     "output_type": "stream",
     "text": [
      "<html>\n",
      " <head>\n",
      "  <title>\n",
      "   HTML Page Title\n",
      "  </title>\n",
      " </head>\n",
      " <h1>\n",
      "  Head: Important Header: Global News\n",
      " </h1>\n",
      " <br/>\n",
      " <h2>\n",
      "  Head: Less Imporant Header: Global News\n",
      " </h2>\n",
      " <body>\n",
      "  <p class=\"title\">\n",
      "   <b>\n",
      "    Paragraph: Financial news\n",
      "   </b>\n",
      "  </p>\n",
      "  <p class=\"story\">\n",
      "   Stocks had a volatile week, where\n",
      "   <a class=\"stock\" href=\"https://finance.yahoo.com/quote/duk/\" id=\"link1\" target=\"_blank\">\n",
      "    DUK\n",
      "   </a>\n",
      "   ,\n",
      "   <a class=\"stock\" href=\"https://finance.yahoo.com/quote/d/\" id=\"link2\" target=\"_blank\">\n",
      "    D\n",
      "   </a>\n",
      "   ,\n",
      "   <a class=\"stock\" href=\"https://finance.yahoo.com/quote/exc/\" id=\"link3\" target=\"_blank\">\n",
      "    EXC\n",
      "   </a>\n",
      "   ,\n",
      "   <a class=\"etf\" href=\"https://finance.yahoo.com/quote/nee/\" id=\"link4\" target=\"_blank\">\n",
      "    NEE\n",
      "   </a>\n",
      "   ,\n",
      "   <a class=\"stock\" href=\"https://finance.yahoo.com/quote/so/\" id=\"link5\" target=\"_blank\">\n",
      "    SO\n",
      "   </a>\n",
      "   ,\n",
      "were all making headlines.\n",
      "  </p>\n",
      "  <p class=\"details\">\n",
      "   End of HTML document.\n",
      "  </p>\n",
      " </body>\n",
      "</html>\n"
     ]
    }
   ],
   "source": [
    "# Use the standard html.parser to convert the HTML document into a BeautifulSoup data structure\n",
    "soup = BeautifulSoup(custom_html_doc, 'html.parser')\n",
    "\n",
    "# Print the HTML to the screen with indents included\n",
    "print(soup.prettify())"
   ]
  },
  {
   "cell_type": "markdown",
   "metadata": {},
   "source": [
    "### Exercise\n",
    "Write a script to print all of the hyperlinks present in ```soup```. "
   ]
  },
  {
   "cell_type": "code",
   "execution_count": 7,
   "metadata": {},
   "outputs": [
    {
     "name": "stdout",
     "output_type": "stream",
     "text": [
      "      ======== HyperLinks ========       \n",
      "      https://finance.yahoo.com/quote/duk/\n",
      "      https://finance.yahoo.com/quote/d/\n",
      "      https://finance.yahoo.com/quote/exc/\n",
      "      https://finance.yahoo.com/quote/nee/\n",
      "      https://finance.yahoo.com/quote/so/\n",
      "      ============================       \n"
     ]
    }
   ],
   "source": [
    "print(\"      ======== HyperLinks ========       \")\n",
    "for hyperlink in soup.find_all('a'):\n",
    "    print(\"     \",hyperlink['href'])\n",
    "print(\"      ============================       \")"
   ]
  },
  {
   "cell_type": "markdown",
   "metadata": {},
   "source": [
    "### Exercise 2:\n",
    "\n",
    "From ```custom_html_doc``` above, use ```BeautifulSoup``` to print the symbol, class, and href attributes for all < a > tags. For example, the first line of output should print:\n",
    "\n",
    "```python\n",
    "AAPL,stock,https://finance.yahoo.com/quote/aapl/\n",
    "```"
   ]
  },
  {
   "cell_type": "code",
   "execution_count": 14,
   "metadata": {
    "scrolled": true
   },
   "outputs": [
    {
     "name": "stdout",
     "output_type": "stream",
     "text": [
      "Class:  stock , Href:  https://finance.yahoo.com/quote/duk/ , Symbol:  DUK\n",
      "Class:  stock , Href:  https://finance.yahoo.com/quote/d/ , Symbol:  D\n",
      "Class:  stock , Href:  https://finance.yahoo.com/quote/exc/ , Symbol:  EXC\n",
      "Class:  etf , Href:  https://finance.yahoo.com/quote/nee/ , Symbol:  NEE\n",
      "Class:  stock , Href:  https://finance.yahoo.com/quote/so/ , Symbol:  SO\n"
     ]
    }
   ],
   "source": [
    "for hyperlink in soup.find_all(\"a\"):\n",
    "    print(\"Class: \",hyperlink['class'][0] ,\",\", \"Href: \", hyperlink['href'],\",\",\"Symbol: \", hyperlink.text)"
   ]
  },
  {
   "cell_type": "markdown",
   "metadata": {},
   "source": [
    "### Exercise 3:\n",
    "Write a script to determine the number of occurences of every tag in ```stock_soup```. Print to the screen a dictionary where each key is a tag name, and the corresponding value for each key is the number of occurrences of that particular tag.\n",
    "```"
   ]
  },
  {
   "cell_type": "code",
   "execution_count": 16,
   "metadata": {},
   "outputs": [],
   "source": [
    "# Open a file and pass the file handle (here file handle is f) to BeautifulSoup\n",
    "file_name = \"DUK_Yahoo.html\"\n",
    "with open(dir_data + file_name,encoding= 'UTF-8') as f:\n",
    "    stock_soup = BeautifulSoup(f, 'html.parser')"
   ]
  },
  {
   "cell_type": "code",
   "execution_count": 18,
   "metadata": {},
   "outputs": [
    {
     "name": "stdout",
     "output_type": "stream",
     "text": [
      "{'html': 1, 'head': 1, 'script': 53, 'meta': 23, 'title': 1, 'link': 29, 'style': 4, 'body': 1, 'div': 320, 'ul': 9, 'li': 52, 'a': 64, 'svg': 27, 'path': 27, 'b': 5, 'span': 98, 'form': 1, 'label': 1, 'input': 4, 'button': 17, 'nav': 1, 'h3': 6, 'br': 3, 'canvas': 3, 'h1': 1, 'fieldset': 1, 'section': 2, 'table': 2, 'tbody': 2, 'tr': 16, 'td': 32, 'img': 4, 'i': 3, 'u': 3, 'p': 3}\n"
     ]
    }
   ],
   "source": [
    "tag_names = [tag.name for tag in stock_soup.find_all()]\n",
    "counter_dict = {}\n",
    "for tag in tag_names:\n",
    "    if tag  not in counter_dict:\n",
    "        counter_dict[tag] = 1\n",
    "    else: \n",
    "        counter_dict[tag] += 1\n",
    "print(counter_dict)"
   ]
  },
  {
   "cell_type": "markdown",
   "metadata": {},
   "source": [
    "### Exercise 6:\n",
    "\n",
    "Write a script to print all of the available ```data-test``` identifiers present in the table (i.e. present in the first td tag of ```stock_soup```). Your output should print:\n",
    "\n",
    "```\n",
    "PREV_CLOSE-value\n",
    "OPEN-value\n",
    "BID-value\n",
    "ASK-value\n",
    "DAYS_RANGE-value\n",
    "FIFTY_TWO_WK_RANGE-value\n",
    "TD_VOLUME-value\n",
    "AVERAGE_VOLUME_3MONTH-value\n",
    "MARKET_CAP-value\n",
    "BETA_3Y-value\n",
    "PE_RATIO-value\n",
    "EPS_RATIO-value\n",
    "EARNINGS_DATE-value\n",
    "DIVIDEND_AND_YIELD-value\n",
    "EX_DIVIDEND_DATE-value\n",
    "ONE_YEAR_TARGET_PRICE-value\n",
    "```"
   ]
  },
  {
   "cell_type": "code",
   "execution_count": 20,
   "metadata": {},
   "outputs": [
    {
     "name": "stdout",
     "output_type": "stream",
     "text": [
      "PREV_CLOSE-value\n",
      "OPEN-value\n",
      "BID-value\n",
      "ASK-value\n",
      "DAYS_RANGE-value\n",
      "FIFTY_TWO_WK_RANGE-value\n",
      "TD_VOLUME-value\n",
      "AVERAGE_VOLUME_3MONTH-value\n",
      "MARKET_CAP-value\n",
      "BETA_3Y-value\n",
      "PE_RATIO-value\n",
      "EPS_RATIO-value\n",
      "EARNINGS_DATE-value\n",
      "DIVIDEND_AND_YIELD-value\n",
      "EX_DIVIDEND_DATE-value\n",
      "ONE_YEAR_TARGET_PRICE-value\n"
     ]
    }
   ],
   "source": [
    "for i in stock_soup.find_all(\"td\",{\"class\":[\"C(black)\",'Ta(end)']}):\n",
    "    if 'data-test' in i.attrs:\n",
    "        print(i.attrs['data-test'])"
   ]
  },
  {
   "cell_type": "markdown",
   "metadata": {},
   "source": [
    "### Exercise 7:\n",
    "\n",
    "Print the Bid, Ask, Volume, and Average Volume of the stock symbol DUK in ```DUK_Yahoo.html```."
   ]
  },
  {
   "cell_type": "code",
   "execution_count": 22,
   "metadata": {},
   "outputs": [
    {
     "name": "stdout",
     "output_type": "stream",
     "text": [
      "BID-value :  84.19 x 900\n",
      "ASK-value :  84.80 x 800\n",
      "TD_VOLUME-value :  3,082,447\n",
      "AVERAGE_VOLUME_3MONTH-value :  3,855,570\n"
     ]
    }
   ],
   "source": [
    "all_td = stock_soup.find_all(\"td\",{\"class\":[\"C(black)\",'Ta(end)']})\n",
    "\n",
    "for it in all_td:\n",
    "    for k,v in it.attrs.items():\n",
    "        if 'data-test' in k and ('BID-value' in v) or ('ASK-value' in v) or ('VOLUME' in v):\n",
    "            print(v,\": \", it.text)"
   ]
  },
  {
   "cell_type": "markdown",
   "metadata": {},
   "source": [
    "### Exercise 8:\n",
    "\n",
    "Modify the ```process_yahoo()``` function to process and return all three fundamental data quantities of interest, namely the market capitalization, PE ratio, and EPS. The function should return a dictionary where the keys are the ```data-test``` identifiers, and the values are the corresponding fundamental data. Loop through all the symbols, applying the parsing function to each symbol's corresponding HTML file and print each dictionary of fundamental data to the screen."
   ]
  },
  {
   "cell_type": "code",
   "execution_count": 26,
   "metadata": {},
   "outputs": [],
   "source": [
    "symbol_list = ['NEE','DUK','D','SO','EXC']"
   ]
  },
  {
   "cell_type": "code",
   "execution_count": 27,
   "metadata": {},
   "outputs": [],
   "source": [
    "\n",
    "def process_yahoo(symbol):\n",
    "    # Load the previously downloaded file\n",
    "    file_name = dir_data + symbol + '_Yahoo.html'\n",
    "    with open(file_name,encoding=\"utf8\") as f:\n",
    "        s = BeautifulSoup(f, 'html.parser')\n",
    "    \n",
    "    # Parse the specific stock data of interest and store in a dictionary object\n",
    "    info_dict = {'MARKET_CAP' : s.find(\"td\", {\"data-test\" : 'MARKET_CAP-value'}).text,\n",
    "                'PE_ratio': s.find(\"td\", {\"data-test\" : 'PE_RATIO-value'}).text , \n",
    "                'EPS_RATIO': s.find(\"td\", {\"data-test\" : 'EPS_RATIO-value'}).text }\n",
    "    \n",
    "    return info_dict\n",
    "\n",
    "\n"
   ]
  },
  {
   "cell_type": "code",
   "execution_count": 29,
   "metadata": {},
   "outputs": [
    {
     "name": "stdout",
     "output_type": "stream",
     "text": [
      "\n",
      "\n",
      "=================== \n",
      "Symbol : NEE\n",
      "MARKET_CAP :  83.98B\n",
      "PE_ratio :  10.00\n",
      "EPS_RATIO :  17.57\n",
      "=================== \n",
      "\n",
      "\n",
      "=================== \n",
      "Symbol : DUK\n",
      "MARKET_CAP :  60.317B\n",
      "PE_ratio :  20.61\n",
      "EPS_RATIO :  4.11\n",
      "=================== \n",
      "\n",
      "\n",
      "=================== \n",
      "Symbol : D\n",
      "MARKET_CAP :  52.519B\n",
      "PE_ratio :  14.57\n",
      "EPS_RATIO :  4.80\n",
      "=================== \n",
      "\n",
      "\n",
      "=================== \n",
      "Symbol : SO\n",
      "MARKET_CAP :  47.957B\n",
      "PE_ratio :  19.45\n",
      "EPS_RATIO :  2.40\n",
      "=================== \n",
      "\n",
      "\n",
      "=================== \n",
      "Symbol : EXC\n",
      "MARKET_CAP :  44.279B\n",
      "PE_ratio :  11.91\n",
      "EPS_RATIO :  3.84\n",
      "=================== \n",
      "\n",
      "\n"
     ]
    }
   ],
   "source": [
    "print(\"\\n\")\n",
    "for symbol in symbol_list:\n",
    "    print(\"=================== \")\n",
    "    print(\"Symbol :\" , symbol)\n",
    "    for k,v in process_yahoo(symbol).items():\n",
    "        print(k,\": \",v)\n",
    "    print(\"=================== \")\n",
    "    print(\"\\n\")"
   ]
  },
  {
   "cell_type": "markdown",
   "metadata": {},
   "source": [
    "### Exercise 9:\n",
    "\n",
    "After obtaining the preliminary results with the three fundamental data quantities of interest, your manager has requested that you add additional statistics to help determine the liquidity of the stock relative to its average. This will help indicate if a stock has been trading at higher or lower volumes recently. Write a function named ```scrape_volume_ratio``` that takes a symbol name string as an input, and returns the volume ratio, where volume ratio = volume / average volume . All of the data needed to calculate this ratio is available in the HTML documents for each symbol.\n",
    "\n",
    "Hints:\n",
    "\n",
    "1. If you need to remove commas from a string, use the replace() method on that string\n",
    "\n",
    "2. Once commas are removed you can change a string to a float using the float() method\n",
    "\n",
    "Once you've define the function loop through all the symbols, apply the parsing function to each symbol's corresponding HTML file. The resulting output should print:\n",
    "\n",
    "{'NEE': 0.9837109088236352,\n",
    " 'DUK': 0.7994789356696934,\n",
    " 'D': 1.2231660648789393,\n",
    " 'SO': 1.0092279816663878,\n",
    " 'EXC': 0.8167456931073666}"
   ]
  },
  {
   "cell_type": "code",
   "execution_count": 31,
   "metadata": {},
   "outputs": [],
   "source": [
    "def scrape_volume_ratio(symbol):\n",
    "    # Load the previously downloaded file\n",
    "    file_name = dir_data + symbol + '_Yahoo.html'\n",
    "    with open(file_name,encoding=\"utf8\") as f:\n",
    "        s = BeautifulSoup(f, 'html.parser')\n",
    "    \n",
    "    # Parse the specific stock data of interest and store in a dictionary object\n",
    "    volume =  float(s.find(\"td\", {\"data-test\" : 'TD_VOLUME-value'}).text.replace(',',''))\n",
    "    average_vol = float(s.find(\"td\", {\"data-test\" : 'AVERAGE_VOLUME_3MONTH-value'}).text.replace(',',''))\n",
    "    \n",
    "    return round(volume/average_vol,3)\n"
   ]
  },
  {
   "cell_type": "code",
   "execution_count": 32,
   "metadata": {},
   "outputs": [
    {
     "name": "stdout",
     "output_type": "stream",
     "text": [
      "\n",
      "\n",
      "Symbol:  NEE\n",
      "Volume Ratio:  0.984\n",
      "Appending to list...\n",
      "\n",
      "\n",
      "Symbol:  DUK\n",
      "Volume Ratio:  0.799\n",
      "Appending to list...\n",
      "\n",
      "\n",
      "Symbol:  D\n",
      "Volume Ratio:  1.223\n",
      "Appending to list...\n",
      "\n",
      "\n",
      "Symbol:  SO\n",
      "Volume Ratio:  1.009\n",
      "Appending to list...\n",
      "\n",
      "\n",
      "Symbol:  EXC\n",
      "Volume Ratio:  0.817\n",
      "Appending to list...\n",
      "\n",
      "\n",
      "{'NEE': 0.984, 'DUK': 0.799, 'D': 1.223, 'SO': 1.009, 'EXC': 0.817}\n"
     ]
    }
   ],
   "source": [
    "symbols_ratio = {}\n",
    "print(\"\\n\")\n",
    "for symbol in symbol_list:\n",
    "    vol_sym = scrape_volume_ratio(symbol)\n",
    "    print('Symbol: ',symbol)\n",
    "    print('Volume Ratio: ',vol_sym)\n",
    "    print(\"Appending to list...\")\n",
    "    print(\"\\n\")\n",
    "    symbols_ratio[symbol] = vol_sym\n",
    "\n",
    "    \n",
    "print(symbols_ratio)"
   ]
  }
 ],
 "metadata": {
  "kernelspec": {
   "display_name": "Python 3",
   "language": "python",
   "name": "python3"
  },
  "language_info": {
   "codemirror_mode": {
    "name": "ipython",
    "version": 3
   },
   "file_extension": ".py",
   "mimetype": "text/x-python",
   "name": "python",
   "nbconvert_exporter": "python",
   "pygments_lexer": "ipython3",
   "version": "3.7.1"
  }
 },
 "nbformat": 4,
 "nbformat_minor": 2
}
