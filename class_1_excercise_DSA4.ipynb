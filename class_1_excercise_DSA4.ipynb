{
 "cells": [
  {
   "cell_type": "markdown",
   "metadata": {},
   "source": [
    "## Excercise from th Data Science For All - MinTic + Correlation One"
   ]
  },
  {
   "cell_type": "code",
   "execution_count": 51,
   "metadata": {},
   "outputs": [],
   "source": [
    "# Data on probability of expansion success by country estimates\n",
    "success_estimates = {'Australia': [0.6, 0.33, 0.11, 0.14],\n",
    "                     'France': [0.66, 0.78, 0.98, 0.2],\n",
    "                     'Italy': [0.6],\n",
    "                     'Brazil': [0.22, 0.22, 0.43],\n",
    "                     'USA': [0.2, 0.5, 0.3],\n",
    "                     'England': [0.45],\n",
    "                     'Canada': [0.25, 0.3],\n",
    "                     'Argentina': [0.22],\n",
    "                     'Greece': [0.45, 0.66, 0.75, 0.99, 0.15, 0.66],\n",
    "                     'Morocco': [0.29],\n",
    "                     'Tunisia': [0.68, 0.56],\n",
    "                     'Egypt': [0.99],\n",
    "                     'Jamaica': [0.61, 0.65, 0.71],\n",
    "                     'Switzerland': [0.73, 0.86, 0.84, 0.51, 0.99],\n",
    "                     'Germany': [0.45, 0.49, 0.36]}"
   ]
  },
  {
   "cell_type": "markdown",
   "metadata": {},
   "source": [
    "### Excercise 1:\n",
    "\n",
    "Print the length of the success estimate lists for France, Greece, and Morocco.\n",
    "\n"
   ]
  },
  {
   "cell_type": "code",
   "execution_count": 9,
   "metadata": {},
   "outputs": [
    {
     "name": "stdout",
     "output_type": "stream",
     "text": [
      "Country:  France \n",
      " Number of Success estimates:  4\n",
      "Country:  Greece \n",
      " Number of Success estimates:  6\n",
      "Country:  Morocco \n",
      " Number of Success estimates:  1\n"
     ]
    }
   ],
   "source": [
    "for Country,Values in success_estimates.items():\n",
    "    if Country in ['France','Greece','Morocco']:\n",
    "        print(\"Country: \",Country,\"\\n Number of Success estimates: \",len(Values))"
   ]
  },
  {
   "cell_type": "markdown",
   "metadata": {},
   "source": [
    "### Exercise 2:\n",
    "\n",
    "Which of the following would be useful to store project success estimates if they were available at a regional level instead of a country level?\n",
    "\n",
    "(a) List\n",
    "\n",
    "(b) Dictionary\n",
    "\n",
    "(c) Float\n",
    "\n",
    "(d) String\n",
    "\n",
    "## Answer :\n",
    "\n",
    "(a) Dictionary.\n"
   ]
  },
  {
   "cell_type": "markdown",
   "metadata": {},
   "source": [
    "### Exercise 3:\n",
    "\n",
    "Write a script to calculate the average success for every country. Output (using ```print()```) each country's average success estimate to the screen. The print statements should output each country on a new line, for example:\n",
    "```\n",
    "Country: France , Average: 0.655\n",
    "Country: Brazil , Average: 0.29\n",
    "```"
   ]
  },
  {
   "cell_type": "code",
   "execution_count": 8,
   "metadata": {},
   "outputs": [
    {
     "name": "stdout",
     "output_type": "stream",
     "text": [
      "Country:  Australia  ,  Average:  0.3\n",
      "Country:  France  ,  Average:  0.66\n",
      "Country:  Italy  ,  Average:  0.6\n",
      "Country:  Brazil  ,  Average:  0.29\n",
      "Country:  USA  ,  Average:  0.33\n",
      "Country:  England  ,  Average:  0.45\n",
      "Country:  Canada  ,  Average:  0.28\n",
      "Country:  Argentina  ,  Average:  0.22\n",
      "Country:  Greece  ,  Average:  0.61\n",
      "Country:  Morocco  ,  Average:  0.29\n",
      "Country:  Tunisia  ,  Average:  0.62\n",
      "Country:  Egypt  ,  Average:  0.99\n",
      "Country:  Jamaica  ,  Average:  0.66\n",
      "Country:  Switzerland  ,  Average:  0.79\n",
      "Country:  Germany  ,  Average:  0.43\n"
     ]
    }
   ],
   "source": [
    "for Country,Values in success_estimates.items():\n",
    "    print(\"Country: \", Country,\" , \", \"Average: \" , round(sum(Values)/len(Values),2 ))"
   ]
  },
  {
   "cell_type": "markdown",
   "metadata": {},
   "source": [
    "### Exercise 4:\n",
    "\n",
    "Write a for loop to instead calculate the minimum and maximum of each country's list of success estimates, printing each out consecutively as in the for loop example above."
   ]
  },
  {
   "cell_type": "code",
   "execution_count": 10,
   "metadata": {},
   "outputs": [
    {
     "name": "stdout",
     "output_type": "stream",
     "text": [
      "Country:  Australia \n",
      " Max Value:  0.6 \n",
      " Min Value:  0.11\n",
      "Country:  France \n",
      " Max Value:  0.98 \n",
      " Min Value:  0.2\n",
      "Country:  Italy \n",
      " Max Value:  0.6 \n",
      " Min Value:  0.6\n",
      "Country:  Brazil \n",
      " Max Value:  0.43 \n",
      " Min Value:  0.22\n",
      "Country:  USA \n",
      " Max Value:  0.5 \n",
      " Min Value:  0.2\n",
      "Country:  England \n",
      " Max Value:  0.45 \n",
      " Min Value:  0.45\n",
      "Country:  Canada \n",
      " Max Value:  0.3 \n",
      " Min Value:  0.25\n",
      "Country:  Argentina \n",
      " Max Value:  0.22 \n",
      " Min Value:  0.22\n",
      "Country:  Greece \n",
      " Max Value:  0.99 \n",
      " Min Value:  0.15\n",
      "Country:  Morocco \n",
      " Max Value:  0.29 \n",
      " Min Value:  0.29\n",
      "Country:  Tunisia \n",
      " Max Value:  0.68 \n",
      " Min Value:  0.56\n",
      "Country:  Egypt \n",
      " Max Value:  0.99 \n",
      " Min Value:  0.99\n",
      "Country:  Jamaica \n",
      " Max Value:  0.71 \n",
      " Min Value:  0.61\n",
      "Country:  Switzerland \n",
      " Max Value:  0.99 \n",
      " Min Value:  0.51\n",
      "Country:  Germany \n",
      " Max Value:  0.49 \n",
      " Min Value:  0.36\n"
     ]
    }
   ],
   "source": [
    "for Country,Values in success_estimates.items():\n",
    "    print(\"Country: \",Country,\"\\n Max Value: \", max(Values),\"\\n Min Value: \",min(Values))"
   ]
  },
  {
   "cell_type": "markdown",
   "metadata": {},
   "source": [
    "### Exercise 5:\n",
    "\n",
    "Using the for loop, write code to determine the country with the largest range of success estimates (that is, the largest difference between the smallest and largest estimate for a country)."
   ]
  },
  {
   "cell_type": "code",
   "execution_count": 18,
   "metadata": {},
   "outputs": [
    {
     "name": "stdout",
     "output_type": "stream",
     "text": [
      "Country:  Australia , Range :  0.49\n",
      "Country:  France , Range :  0.78\n",
      "Country:  Italy , Range :  0.0\n",
      "Country:  Brazil , Range :  0.21\n",
      "Country:  USA , Range :  0.3\n",
      "Country:  England , Range :  0.0\n",
      "Country:  Canada , Range :  0.04999999999999999\n",
      "Country:  Argentina , Range :  0.0\n",
      "Country:  Greece , Range :  0.84\n",
      "Country:  Morocco , Range :  0.0\n",
      "Country:  Tunisia , Range :  0.12\n",
      "Country:  Egypt , Range :  0.0\n",
      "Country:  Jamaica , Range :  0.09999999999999998\n",
      "Country:  Switzerland , Range :  0.48\n",
      "Country:  Germany , Range :  0.13\n",
      "\n",
      "\n",
      "Country with the largest range of success estimates: Greece , Range : 0.84 \n"
     ]
    }
   ],
   "source": [
    "val = ['',0] \n",
    "for Country,Values in success_estimates.items():\n",
    "    range_values = max(Values)-min(Values)\n",
    "    print(\"Country: \",Country, \", Range : \",range_values)\n",
    "    if range_values > val[1]:\n",
    "        val[1] = range_values\n",
    "        val[0] = Country\n",
    "print(\"\\n\")\n",
    "print(\"Country with the largest range of success estimates: {} , Range : {} \".format(val[0],val[1]))"
   ]
  },
  {
   "cell_type": "markdown",
   "metadata": {},
   "source": [
    "### Excercise 6\n",
    "Using list comprehensions, write a script to create a <b>list of lists</b> called ```sum_squares_list```, where each element of the list is a two-item list [country name, value]. The value item in the list should be the sum of squares of that country's success estimates. For example, one element of ```sum_squares_list``` should be for Jamaica, where the two-item list is [Jamaica, 1.2987] (since 1.2987 = 0.61^2 + 0.65^2 + 0.71^2)."
   ]
  },
  {
   "cell_type": "code",
   "execution_count": 24,
   "metadata": {},
   "outputs": [
    {
     "data": {
      "text/plain": [
       "[['Australia', 0.5],\n",
       " ['France', 2.04],\n",
       " ['Italy', 0.36],\n",
       " ['Brazil', 0.28],\n",
       " ['USA', 0.38],\n",
       " ['England', 0.2],\n",
       " ['Canada', 0.15],\n",
       " ['Argentina', 0.05],\n",
       " ['Greece', 2.64],\n",
       " ['Morocco', 0.08],\n",
       " ['Tunisia', 0.78],\n",
       " ['Egypt', 0.98],\n",
       " ['Jamaica', 1.3],\n",
       " ['Switzerland', 3.22],\n",
       " ['Germany', 0.57]]"
      ]
     },
     "execution_count": 24,
     "metadata": {},
     "output_type": "execute_result"
    }
   ],
   "source": [
    "sum_squares_list = [[country,round(sum([x ** 2 for x in value]),2)] for country,value in\\\n",
    "                    success_estimates.items()]\n",
    "sum_squares_list"
   ]
  },
  {
   "cell_type": "markdown",
   "metadata": {},
   "source": [
    "### Exercise 7:\n",
    "\n",
    "We'd like to determine the spread around the mean success estimate for each country. Using list comprehensions, write a script that subtracts the mean success estimate for a given country from each success estimate for that country. Store the results in a list named ```removed_mean_list```. Round values to two decimal places. Your output should produce the following list of lists:\n",
    "\n",
    "```\n",
    "[['Australia', [0.3, 0.03, -0.19, -0.16]],\n",
    " ['France', [0.01, 0.12, 0.32, -0.46]],\n",
    " ['Italy', [0.0]],\n",
    " ['Brazil', [-0.07, -0.07, 0.14]],\n",
    " ['USA', [-0.13, 0.17, -0.03]],\n",
    " ['England', [0.0]],\n",
    " ['Canada', [-0.03, 0.02]],\n",
    " ['Argentina', [0.0]],\n",
    " ['Greece', [-0.16, 0.05, 0.14, 0.38, -0.46, 0.05]],\n",
    " ['Morocco', [0.0]],\n",
    " ['Tunisia', [0.06, -0.06]],\n",
    " ['Egypt', [0.0]],\n",
    " ['Jamaica', [-0.05, -0.01, 0.05]],\n",
    " ['Switzerland', [-0.06, 0.07, 0.05, -0.28, 0.2]],\n",
    " ['Germany', [0.02, 0.06, -0.07]]]\n",
    "```"
   ]
  },
  {
   "cell_type": "code",
   "execution_count": 32,
   "metadata": {},
   "outputs": [
    {
     "name": "stdout",
     "output_type": "stream",
     "text": [
      "['Australia', [0.3, 0.03, -0.19, -0.16]]\n",
      "['France', [0.01, 0.12, 0.32, -0.46]]\n",
      "['Italy', [0.0]]\n",
      "['Brazil', [-0.07, -0.07, 0.14]]\n",
      "['USA', [-0.13, 0.17, -0.03]]\n",
      "['England', [0.0]]\n",
      "['Canada', [-0.03, 0.02]]\n",
      "['Argentina', [0.0]]\n",
      "['Greece', [-0.16, 0.05, 0.14, 0.38, -0.46, 0.05]]\n",
      "['Morocco', [0.0]]\n",
      "['Tunisia', [0.06, -0.06]]\n",
      "['Egypt', [0.0]]\n",
      "['Jamaica', [-0.05, -0.01, 0.05]]\n",
      "['Switzerland', [-0.06, 0.07, 0.05, -0.28, 0.2]]\n",
      "['Germany', [0.02, 0.06, -0.07]]\n"
     ]
    }
   ],
   "source": [
    "removed_mean_list = [[country,[round(x - sum(value)/len(value),2) for x in value]] for country,value in \\\n",
    "                     success_estimates.items()]\n",
    "\n",
    "for item in removed_mean_list:\n",
    "    print(item)"
   ]
  },
  {
   "cell_type": "markdown",
   "metadata": {},
   "source": [
    "### Exercise 8:\n",
    "\n",
    "After reviewing company policy on statistical procedures, you notice the company recommends that all estimates (averages, minimums, maximums) must have at least three values contributing to the summary statistic. Write a for loop and use the ```if``` statement structure to select and print the average success estimates for the countries satisfying this policy. If the country does not satisfy the policy, print the country name and ``\"*Does not meet company policy*\"``. Each country should appear on a new line."
   ]
  },
  {
   "cell_type": "code",
   "execution_count": 43,
   "metadata": {},
   "outputs": [
    {
     "name": "stdout",
     "output_type": "stream",
     "text": [
      "Country: Australia , Avg Success Estimate 0.30 \n",
      "Country: France , Avg Success Estimate 0.66 \n",
      "*Italy does not meet company policy*\n",
      "*Brazil does not meet company policy*\n",
      "*USA does not meet company policy*\n",
      "*England does not meet company policy*\n",
      "*Canada does not meet company policy*\n",
      "*Argentina does not meet company policy*\n",
      "Country: Greece , Avg Success Estimate 0.61 \n",
      "*Morocco does not meet company policy*\n",
      "*Tunisia does not meet company policy*\n",
      "*Egypt does not meet company policy*\n",
      "*Jamaica does not meet company policy*\n",
      "Country: Switzerland , Avg Success Estimate 0.79 \n",
      "*Germany does not meet company policy*\n"
     ]
    }
   ],
   "source": [
    "for country,values in success_estimates.items():\n",
    "    if len(values)>3:\n",
    "        print(\"Country: {0:s} , Avg Success Estimate {1:.2f} \".format(country,sum(values)/len(values)))\n",
    "    else:\n",
    "        print(\"*{0:s} does not meet company policy*\".format(country))"
   ]
  },
  {
   "cell_type": "markdown",
   "metadata": {},
   "source": [
    "### Exercise 10:\n",
    "\n",
    "Write code to print each country name and summary statistics. Each line should show one country and the corresponding summary statistics: Min Estimate (float), Average Estimate (float), Max Estimate (float), Number of Estimates (int), Meets Company Policy of at least 3 estimates (bool). For example, the line for France would appear as:\n",
    "```\n",
    "Country: France , Min: 0.2 , Average: 0.655 , Max: 0.98 , NumEst: 4 , MeetsPolicy: True\n",
    "```"
   ]
  },
  {
   "cell_type": "code",
   "execution_count": 49,
   "metadata": {},
   "outputs": [
    {
     "name": "stdout",
     "output_type": "stream",
     "text": [
      "Country: Australia , Min: 0.11 , Average: 0.3 , Max: 0.6 , NumEst: 4 , MeetsPolicy: True\n",
      "Country: France , Min: 0.2 , Average: 0.66 , Max: 0.98 , NumEst: 4 , MeetsPolicy: True\n",
      "Country: Italy , Min: 0.6 , Average: 0.6, Max: 0.6 , NumEst: 1 , MeetsPolicy: False\n",
      "Country: Brazil , Min: 0.22 , Average: 0.29 , Max: 0.43 , NumEst: 3 , MeetsPolicy: True\n",
      "Country: USA , Min: 0.2 , Average: 0.33 , Max: 0.5 , NumEst: 3 , MeetsPolicy: True\n",
      "Country: England , Min: 0.45 , Average: 0.45, Max: 0.45 , NumEst: 1 , MeetsPolicy: False\n",
      "Country: Canada , Min: 0.25 , Average: 0.28, Max: 0.3 , NumEst: 2 , MeetsPolicy: False\n",
      "Country: Argentina , Min: 0.22 , Average: 0.22, Max: 0.22 , NumEst: 1 , MeetsPolicy: False\n",
      "Country: Greece , Min: 0.15 , Average: 0.61 , Max: 0.99 , NumEst: 6 , MeetsPolicy: True\n",
      "Country: Morocco , Min: 0.29 , Average: 0.29, Max: 0.29 , NumEst: 1 , MeetsPolicy: False\n",
      "Country: Tunisia , Min: 0.56 , Average: 0.62, Max: 0.68 , NumEst: 2 , MeetsPolicy: False\n",
      "Country: Egypt , Min: 0.99 , Average: 0.99, Max: 0.99 , NumEst: 1 , MeetsPolicy: False\n",
      "Country: Jamaica , Min: 0.61 , Average: 0.66 , Max: 0.71 , NumEst: 3 , MeetsPolicy: True\n",
      "Country: Switzerland , Min: 0.51 , Average: 0.79 , Max: 0.99 , NumEst: 5 , MeetsPolicy: True\n",
      "Country: Germany , Min: 0.36 , Average: 0.43 , Max: 0.49 , NumEst: 3 , MeetsPolicy: True\n"
     ]
    }
   ],
   "source": [
    "for country,values in success_estimates.items():\n",
    "    min_val = min(values)\n",
    "    max_val = max(values)\n",
    "    num_est = len(values)\n",
    "    avg_val = round(sum(values)/num_est,2)\n",
    "    if len(values)>2:\n",
    "        print(\"Country: {0} , Min: {1} , Average: {2} , Max: {3} , NumEst: {4} , MeetsPolicy: {5}\".format(country,min_val,avg_val,max_val,num_est,\"True\"))\n",
    "    else:\n",
    "        print(\"Country: {0} , Min: {1} , Average: {2}, Max: {3} , NumEst: {4} , MeetsPolicy: {5}\".format(country,min_val,avg_val,max_val,num_est,\"False\"))"
   ]
  }
 ],
 "metadata": {
  "kernelspec": {
   "display_name": "Python 3",
   "language": "python",
   "name": "python3"
  },
  "language_info": {
   "codemirror_mode": {
    "name": "ipython",
    "version": 3
   },
   "file_extension": ".py",
   "mimetype": "text/x-python",
   "name": "python",
   "nbconvert_exporter": "python",
   "pygments_lexer": "ipython3",
   "version": "3.7.1"
  }
 },
 "nbformat": 4,
 "nbformat_minor": 2
}
